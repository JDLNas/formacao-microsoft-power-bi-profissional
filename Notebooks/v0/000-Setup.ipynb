{
 "cells": [
  {
   "cell_type": "code",
   "execution_count": 0,
   "metadata": {
    "application/vnd.databricks.v1+cell": {
     "cellMetadata": {
      "byteLimit": 2048000,
      "implicitDf": true,
      "rowLimit": 10000
     },
     "inputWidgets": {},
     "nuid": "0550f5bd-6795-4903-b982-1ed85f52cde5",
     "showTitle": false,
     "tableResultSettingsMap": {},
     "title": ""
    }
   },
   "outputs": [],
   "source": [
    "%sql\n",
    "CREATE CATALOG IF NOT EXISTS `fomacao_microsoft_power_bi_profisional` \n",
    "COMMENT 'Catálogo para Curso de Formação em Microsoft Power BI Profissional';"
   ]
  },
  {
   "cell_type": "code",
   "execution_count": 0,
   "metadata": {
    "application/vnd.databricks.v1+cell": {
     "cellMetadata": {
      "byteLimit": 2048000,
      "implicitDf": true,
      "rowLimit": 10000
     },
     "inputWidgets": {},
     "nuid": "b33708d2-0927-46e5-9ed0-0a90ae719644",
     "showTitle": false,
     "tableResultSettingsMap": {},
     "title": ""
    }
   },
   "outputs": [],
   "source": [
    "%sql\n",
    "USE CATALOG `fomacao_microsoft_power_bi_profisional`;"
   ]
  },
  {
   "cell_type": "code",
   "execution_count": 0,
   "metadata": {
    "application/vnd.databricks.v1+cell": {
     "cellMetadata": {
      "byteLimit": 2048000,
      "implicitDf": true,
      "rowLimit": 10000
     },
     "inputWidgets": {},
     "nuid": "d210a89b-51c0-4a2c-872e-1576ac1a2d14",
     "showTitle": false,
     "tableResultSettingsMap": {},
     "title": ""
    }
   },
   "outputs": [],
   "source": [
    "%sql\n",
    "CREATE SCHEMA IF NOT EXISTS `fomacao_microsoft_power_bi_profisional`.pessoas\n",
    "COMMENT 'Schema do projeto pessoas (curso de formação em Microsoft Power BI Profissional)';"
   ]
  },
  {
   "cell_type": "code",
   "execution_count": 0,
   "metadata": {
    "application/vnd.databricks.v1+cell": {
     "cellMetadata": {
      "byteLimit": 2048000,
      "implicitDf": true,
      "rowLimit": 10000
     },
     "inputWidgets": {},
     "nuid": "8031761a-c149-43e6-8a4a-50b1409860ce",
     "showTitle": false,
     "tableResultSettingsMap": {},
     "title": ""
    }
   },
   "outputs": [],
   "source": [
    "%sql\n",
    "USE fomacao_microsoft_power_bi_profisional.pessoas;"
   ]
  },
  {
   "cell_type": "code",
   "execution_count": 0,
   "metadata": {
    "application/vnd.databricks.v1+cell": {
     "cellMetadata": {
      "byteLimit": 2048000,
      "implicitDf": true,
      "rowLimit": 10000
     },
     "inputWidgets": {},
     "nuid": "8adc6ca1-e96e-4767-97a3-b060f41e25d4",
     "showTitle": false,
     "tableResultSettingsMap": {},
     "title": ""
    }
   },
   "outputs": [],
   "source": [
    "%sql\n",
    "CREATE VOLUME IF NOT EXISTS `fomacao_microsoft_power_bi_profisional`.pessoas.landing\n",
    "COMMENT 'Landing (bruta): arquivos recebidos das fontes, sem transformação (append-only). Uso: staging de ingestão.';\n",
    "\n",
    "CREATE VOLUME IF NOT EXISTS `fomacao_microsoft_power_bi_profisional`.pessoas.bronze\n",
    "COMMENT 'Bronze (padronizado): cópia bruta padronizada/particionada, metadados mínimos e histórico completo.';\n",
    "\n",
    "CREATE VOLUME IF NOT EXISTS `fomacao_microsoft_power_bi_profisional`.pessoas.silver\n",
    "COMMENT 'Silver (conformado): dados limpos, tipagem padronizada, chaves/regras de qualidade aplicadas; pronto para joins.';\n",
    "\n",
    "CREATE VOLUME IF NOT EXISTS `fomacao_microsoft_power_bi_profisional`.pessoas.gold\n",
    "COMMENT 'Gold (analítico/BI): conjuntos agregados e desnormalizados, prontos para painéis e relatórios com SLA.'"
   ]
  },
  {
   "cell_type": "code",
   "execution_count": 0,
   "metadata": {
    "application/vnd.databricks.v1+cell": {
     "cellMetadata": {
      "byteLimit": 2048000,
      "rowLimit": 10000
     },
     "inputWidgets": {},
     "nuid": "a08ef5be-d4e1-4a4a-a340-127077dd64a8",
     "showTitle": false,
     "tableResultSettingsMap": {},
     "title": ""
    }
   },
   "outputs": [],
   "source": [
    "catalog = \"fomacao_microsoft_power_bi_profisional\"\n",
    "schema = \"pessoas\"\n",
    "volume = \"landing\"\n",
    "\n",
    "base = f\"/Volumes/{catalog}/{schema}/{volume}\"\n",
    "\n",
    "dbutils.fs.mkdirs(f\"{base}/processar\")\n",
    "dbutils.fs.mkdirs(f\"{base}/processado\")"
   ]
  }
 ],
 "metadata": {
  "application/vnd.databricks.v1+notebook": {
   "computePreferences": null,
   "dashboards": [],
   "environmentMetadata": {
    "base_environment": "",
    "environment_version": "3"
   },
   "inputWidgetPreferences": null,
   "language": "python",
   "notebookMetadata": {
    "mostRecentlyExecutedCommandWithImplicitDF": {
     "commandId": 6592610256361128,
     "dataframes": [
      "_sqldf"
     ]
    },
    "pythonIndentUnit": 4
   },
   "notebookName": "000-Setup",
   "widgets": {}
  },
  "language_info": {
   "name": "python"
  }
 },
 "nbformat": 4,
 "nbformat_minor": 0
}
