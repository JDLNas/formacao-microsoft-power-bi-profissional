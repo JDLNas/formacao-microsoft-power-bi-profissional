{
 "cells": [
  {
   "cell_type": "code",
   "execution_count": 0,
   "metadata": {
    "application/vnd.databricks.v1+cell": {
     "cellMetadata": {
      "byteLimit": 2048000,
      "rowLimit": 10000
     },
     "inputWidgets": {},
     "nuid": "734725dd-63f7-4b50-98b9-f5604de1bd2a",
     "showTitle": false,
     "tableResultSettingsMap": {},
     "title": ""
    }
   },
   "outputs": [],
   "source": [
    "from pyspark.sql import functions as F"
   ]
  },
  {
   "cell_type": "code",
   "execution_count": 0,
   "metadata": {
    "application/vnd.databricks.v1+cell": {
     "cellMetadata": {
      "byteLimit": 2048000,
      "rowLimit": 10000
     },
     "inputWidgets": {},
     "nuid": "43248436-0514-42f1-867e-fc05491ec4d0",
     "showTitle": false,
     "tableResultSettingsMap": {},
     "title": ""
    }
   },
   "outputs": [],
   "source": [
    "spark.conf.set(\"spark.sql.session.timeZone\", \"America/Sao_Paulo\")"
   ]
  },
  {
   "cell_type": "code",
   "execution_count": 0,
   "metadata": {
    "application/vnd.databricks.v1+cell": {
     "cellMetadata": {
      "byteLimit": 2048000,
      "rowLimit": 10000
     },
     "inputWidgets": {},
     "nuid": "855652b4-f44a-4bf7-9894-082e288aa55c",
     "showTitle": false,
     "tableResultSettingsMap": {},
     "title": ""
    }
   },
   "outputs": [],
   "source": [
    "origem_path = 'fomacao_microsoft_power_bi_profisional.bronze.pessoas'"
   ]
  },
  {
   "cell_type": "code",
   "execution_count": 0,
   "metadata": {
    "application/vnd.databricks.v1+cell": {
     "cellMetadata": {
      "byteLimit": 2048000,
      "rowLimit": 10000
     },
     "inputWidgets": {},
     "nuid": "b93c0dca-3f9d-4539-9ae6-bafd1e7698d4",
     "showTitle": false,
     "tableResultSettingsMap": {},
     "title": ""
    }
   },
   "outputs": [],
   "source": [
    "df_silver = (\n",
    "    spark.read.table(origem_path)\n",
    "    .withColumn('_ingest_ts_utc', F.current_timestamp())\n",
    "    .withColumn(\"_ingest_date\", F.to_date(F.col(\"_ingest_ts_utc\")))\n",
    "    .withColumn('NomeCompleto', F.concat_ws(' ', F.col('PrimeiroNome'), F.col('UltimoNome')))\n",
    "    .withColumn('Genero',\n",
    "                F.when(F.col('Genero') == 'Male', 'Masculino')\n",
    "                 .when(F.col('Genero') == 'Female', 'Feminino')\n",
    "                 .otherwise(F.col('Genero'))\n",
    "                )\n",
    "    .withColumn('login', F.split(F.col('email'), '@').getItem(0))\n",
    "    .withColumn('dominio', F.upper(F.split(F.col('email'), '@').getItem(1)))\n",
    "    .withColumn('AnoNascimento', F.year(F.col('Nascimento')))\n",
    "    .drop(\n",
    "        '_source_path', \n",
    "        '_source_file', \n",
    "        'PrimeiroNome', \n",
    "        'UltimoNome'\n",
    "        )\n",
    "    .select(\n",
    "        'Codigo', \n",
    "        'email',\n",
    "        'login', \n",
    "        'dominio',\n",
    "        'NomeCompleto', \n",
    "        'Genero', \n",
    "        'Avatar', \n",
    "        'Pais', \n",
    "        'Nascimento', \n",
    "        'AnoNascimento',\n",
    "        '_ingest_ts_utc', \n",
    "        '_ingest_date'\n",
    "        )\n",
    "    )"
   ]
  },
  {
   "cell_type": "code",
   "execution_count": 0,
   "metadata": {
    "application/vnd.databricks.v1+cell": {
     "cellMetadata": {
      "byteLimit": 2048000,
      "rowLimit": 10000
     },
     "inputWidgets": {},
     "nuid": "05156d4f-0b68-4a6e-8680-061860a55a21",
     "showTitle": false,
     "tableResultSettingsMap": {},
     "title": ""
    }
   },
   "outputs": [],
   "source": [
    "tbl = 'pessoas'\n",
    "destino_path = f'fomacao_microsoft_power_bi_profisional.silver.{tbl}'\n",
    "\n",
    "df_silver = (df_silver.write\n",
    "             .format('delta')\n",
    "             .mode('overwrite')\n",
    "             .option('overwriteSchema', 'true')\n",
    "             .partitionBy('_ingest_date')\n",
    "             .saveAsTable(destino_path))\n",
    "\n",
    "print(f'Contagem de registros: {spark.table(destino_path).count()}')"
   ]
  }
 ],
 "metadata": {
  "application/vnd.databricks.v1+notebook": {
   "computePreferences": null,
   "dashboards": [],
   "environmentMetadata": {
    "base_environment": "",
    "environment_version": "3"
   },
   "inputWidgetPreferences": null,
   "language": "python",
   "notebookMetadata": {
    "pythonIndentUnit": 4
   },
   "notebookName": "002-Tratamento",
   "widgets": {}
  },
  "language_info": {
   "name": "python"
  }
 },
 "nbformat": 4,
 "nbformat_minor": 0
}
