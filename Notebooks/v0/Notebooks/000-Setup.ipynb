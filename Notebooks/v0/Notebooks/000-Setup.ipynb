{
 "cells": [
  {
   "cell_type": "code",
   "execution_count": 0,
   "metadata": {
    "application/vnd.databricks.v1+cell": {
     "cellMetadata": {
      "byteLimit": 2048000,
      "implicitDf": true,
      "rowLimit": 10000
     },
     "inputWidgets": {},
     "nuid": "ba0b6560-c4da-4724-a706-5e9647005a78",
     "showTitle": false,
     "tableResultSettingsMap": {},
     "title": ""
    }
   },
   "outputs": [],
   "source": [
    "%sql\n",
    "CREATE CATALOG IF NOT EXISTS `fomacao_microsoft_power_bi_profisional`\n",
    "COMMENT 'Catálogo para armazenar dados da Fomacao Microsoft Power BI Profissional';"
   ]
  },
  {
   "cell_type": "code",
   "execution_count": 0,
   "metadata": {
    "application/vnd.databricks.v1+cell": {
     "cellMetadata": {
      "byteLimit": 2048000,
      "implicitDf": true,
      "rowLimit": 10000
     },
     "inputWidgets": {},
     "nuid": "be416a27-4b02-4c19-9101-89cd545aa891",
     "showTitle": false,
     "tableResultSettingsMap": {},
     "title": ""
    }
   },
   "outputs": [],
   "source": [
    "%sql\n",
    "USE CATALOG `fomacao_microsoft_power_bi_profisional`;"
   ]
  },
  {
   "cell_type": "code",
   "execution_count": 0,
   "metadata": {
    "application/vnd.databricks.v1+cell": {
     "cellMetadata": {
      "byteLimit": 2048000,
      "implicitDf": true,
      "rowLimit": 10000
     },
     "inputWidgets": {},
     "nuid": "39fea2b2-6acb-4948-a006-e5b3164f7be2",
     "showTitle": false,
     "tableResultSettingsMap": {},
     "title": ""
    }
   },
   "outputs": [],
   "source": [
    "%sql\n",
    "CREATE SCHEMA IF NOT EXISTS `bronze`\n",
    "COMMENT 'Schema para dados bronze da Fomacao Microsoft Power BI Profissional';\n",
    "\n",
    "CREATE SCHEMA IF NOT EXISTS `silver`\n",
    "COMMENT 'Schema para dados silver da Fomacao Microsoft Power BI Profissional';\n",
    "\n",
    "CREATE SCHEMA IF NOT EXISTS `gold`\n",
    "COMMENT 'Schema para dados gold da Fomacao Microsoft Power BI Profissional';"
   ]
  },
  {
   "cell_type": "code",
   "execution_count": 0,
   "metadata": {
    "application/vnd.databricks.v1+cell": {
     "cellMetadata": {
      "byteLimit": 2048000,
      "implicitDf": true,
      "rowLimit": 10000
     },
     "inputWidgets": {},
     "nuid": "7d748880-98c5-417a-92da-dd8dc208d755",
     "showTitle": false,
     "tableResultSettingsMap": {},
     "title": ""
    }
   },
   "outputs": [],
   "source": [
    "%sql\n",
    "CREATE VOLUME IF NOT EXISTS `fomacao_microsoft_power_bi_profisional`.bronze.landing\n",
    "COMMENT 'Volume para dados da Fomacao Microsoft Power BI Profissional';"
   ]
  },
  {
   "cell_type": "code",
   "execution_count": 0,
   "metadata": {
    "application/vnd.databricks.v1+cell": {
     "cellMetadata": {
      "byteLimit": 2048000,
      "rowLimit": 10000
     },
     "inputWidgets": {},
     "nuid": "15de0f84-9c4f-4622-bc7f-ef993f31bc42",
     "showTitle": false,
     "tableResultSettingsMap": {},
     "title": ""
    }
   },
   "outputs": [],
   "source": [
    "catalog = 'fomacao_microsoft_power_bi_profisional'\n",
    "schema = 'bronze'\n",
    "volume = 'landing'\n",
    "\n",
    "base = f'/Volumes/{catalog}/{schema}/{volume}'\n",
    "\n",
    "dbutils.fs.mkdirs(f'{base}/processar')\n",
    "dbutils.fs.mkdirs(f'{base}/processados')"
   ]
  },
  {
   "cell_type": "code",
   "execution_count": 0,
   "metadata": {
    "application/vnd.databricks.v1+cell": {
     "cellMetadata": {
      "byteLimit": 2048000,
      "rowLimit": 10000
     },
     "inputWidgets": {},
     "nuid": "7bf764fd-ab96-445e-904e-ecd6bcd55dac",
     "showTitle": false,
     "tableResultSettingsMap": {},
     "title": ""
    }
   },
   "outputs": [],
   "source": [
    "%sh\n",
    "mkdir -p /Volumes/fomacao_microsoft_power_bi_profisional/bronze/landing/processar/\n",
    "wget -O /Volumes/fomacao_microsoft_power_bi_profisional/bronze/landing/processar/pessoas.csv \\\n",
    "  https://raw.githubusercontent.com/JDLNas/formacao-microsoft-power-bi-profissional/refs/heads/main/Fonte/CSV/PESSOAS.csv"
   ]
  },
  {
   "cell_type": "code",
   "execution_count": 0,
   "metadata": {
    "application/vnd.databricks.v1+cell": {
     "cellMetadata": {
      "byteLimit": 2048000,
      "rowLimit": 10000
     },
     "inputWidgets": {},
     "nuid": "4627a568-83df-49ee-8df8-4bcef7560256",
     "showTitle": false,
     "tableResultSettingsMap": {},
     "title": ""
    }
   },
   "outputs": [],
   "source": [
    "dbutils.fs.mv(\n",
    "    '/Volumes/fomacao_microsoft_power_bi_profisional/bronze/landing/processar/pessoas.csv',\n",
    "    '/Volumes/fomacao_microsoft_power_bi_profisional/bronze/landing/processados/pessoas.csv'\n",
    ")"
   ]
  }
 ],
 "metadata": {
  "application/vnd.databricks.v1+notebook": {
   "computePreferences": null,
   "dashboards": [],
   "environmentMetadata": {
    "base_environment": "",
    "environment_version": "3"
   },
   "inputWidgetPreferences": null,
   "language": "python",
   "notebookMetadata": {
    "mostRecentlyExecutedCommandWithImplicitDF": {
     "commandId": 4889056502853524,
     "dataframes": [
      "_sqldf"
     ]
    },
    "pythonIndentUnit": 4
   },
   "notebookName": "000-Setup",
   "widgets": {}
  },
  "language_info": {
   "name": "python"
  }
 },
 "nbformat": 4,
 "nbformat_minor": 0
}
