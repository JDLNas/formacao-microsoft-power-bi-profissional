{
 "cells": [
  {
   "cell_type": "code",
   "execution_count": 0,
   "metadata": {
    "application/vnd.databricks.v1+cell": {
     "cellMetadata": {
      "byteLimit": 2048000,
      "rowLimit": 10000
     },
     "inputWidgets": {},
     "nuid": "4a529aea-2be9-49d1-93be-90e9dbb94684",
     "showTitle": false,
     "tableResultSettingsMap": {},
     "title": ""
    }
   },
   "outputs": [],
   "source": [
    "from pyspark.sql import functions as F"
   ]
  },
  {
   "cell_type": "code",
   "execution_count": 0,
   "metadata": {
    "application/vnd.databricks.v1+cell": {
     "cellMetadata": {
      "byteLimit": 2048000,
      "rowLimit": 10000
     },
     "inputWidgets": {},
     "nuid": "63ca22e3-f6eb-44c0-9f88-1cf05f28c023",
     "showTitle": false,
     "tableResultSettingsMap": {},
     "title": ""
    }
   },
   "outputs": [],
   "source": [
    "spark.conf.set(\"spark.sql.session.timeZone\", \"America/Sao_Paulo\")"
   ]
  },
  {
   "cell_type": "code",
   "execution_count": 0,
   "metadata": {
    "application/vnd.databricks.v1+cell": {
     "cellMetadata": {
      "byteLimit": 2048000,
      "rowLimit": 10000
     },
     "inputWidgets": {},
     "nuid": "d936cf81-253f-4974-8d52-45e02a1a581f",
     "showTitle": false,
     "tableResultSettingsMap": {},
     "title": ""
    }
   },
   "outputs": [],
   "source": [
    "origem_path = 'fomacao_microsoft_power_bi_profisional.silver.pessoas'"
   ]
  },
  {
   "cell_type": "code",
   "execution_count": 0,
   "metadata": {
    "application/vnd.databricks.v1+cell": {
     "cellMetadata": {
      "byteLimit": 2048000,
      "rowLimit": 10000
     },
     "inputWidgets": {},
     "nuid": "d24b57f2-57b2-4d72-bed0-fc805669857f",
     "showTitle": false,
     "tableResultSettingsMap": {},
     "title": ""
    }
   },
   "outputs": [],
   "source": [
    "df_gold = (spark.read.table(origem_path)\n",
    "                .withColumn('_ingest_ts_utc', F.current_timestamp())\n",
    "                .withColumn(\"_ingest_date\", F.to_date(F.col(\"_ingest_ts_utc\")))\n",
    "                .select(\n",
    "                    'Codigo', \n",
    "                    'email',\n",
    "                    'login', \n",
    "                    'dominio',\n",
    "                    'NomeCompleto', \n",
    "                    'Genero', \n",
    "                    'Avatar', \n",
    "                    'Pais', \n",
    "                    'Nascimento', \n",
    "                    'AnoNascimento',\n",
    "                    '_ingest_ts_utc', \n",
    "                    '_ingest_date'\n",
    "                    )\n",
    "                )"
   ]
  },
  {
   "cell_type": "code",
   "execution_count": 0,
   "metadata": {
    "application/vnd.databricks.v1+cell": {
     "cellMetadata": {
      "byteLimit": 2048000,
      "rowLimit": 10000
     },
     "inputWidgets": {},
     "nuid": "bb77cdcc-2405-46fe-9611-41b79e49016f",
     "showTitle": false,
     "tableResultSettingsMap": {},
     "title": ""
    }
   },
   "outputs": [],
   "source": [
    "tbl = 'pessoas'\n",
    "destino_path = f'fomacao_microsoft_power_bi_profisional.gold.{tbl}'\n",
    "\n",
    "df_gold = (df_gold.write\n",
    "             .format('delta')\n",
    "             .mode('overwrite')\n",
    "             .option('overwriteSchema', 'true')\n",
    "             .partitionBy('_ingest_date')\n",
    "             .saveAsTable(destino_path))\n",
    "\n",
    "print(f'Contagem de registros: {spark.table(destino_path).count()}')"
   ]
  }
 ],
 "metadata": {
  "application/vnd.databricks.v1+notebook": {
   "computePreferences": null,
   "dashboards": [],
   "environmentMetadata": {
    "base_environment": "",
    "environment_version": "3"
   },
   "inputWidgetPreferences": null,
   "language": "python",
   "notebookMetadata": {
    "pythonIndentUnit": 4
   },
   "notebookName": "003-Carregamento",
   "widgets": {}
  },
  "language_info": {
   "name": "python"
  }
 },
 "nbformat": 4,
 "nbformat_minor": 0
}
