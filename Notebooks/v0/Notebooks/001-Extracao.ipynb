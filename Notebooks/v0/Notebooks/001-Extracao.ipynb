{
 "cells": [
  {
   "cell_type": "code",
   "execution_count": 0,
   "metadata": {
    "application/vnd.databricks.v1+cell": {
     "cellMetadata": {
      "byteLimit": 2048000,
      "rowLimit": 10000
     },
     "inputWidgets": {},
     "nuid": "45eade5b-8a74-40a7-b43d-780f20469f13",
     "showTitle": false,
     "tableResultSettingsMap": {},
     "title": ""
    }
   },
   "outputs": [],
   "source": [
    "from pyspark.sql import functions as F"
   ]
  },
  {
   "cell_type": "code",
   "execution_count": 0,
   "metadata": {
    "application/vnd.databricks.v1+cell": {
     "cellMetadata": {
      "byteLimit": 2048000,
      "rowLimit": 10000
     },
     "inputWidgets": {},
     "nuid": "03792c23-6a22-4f1b-ba95-1e027f00bfb6",
     "showTitle": false,
     "tableResultSettingsMap": {},
     "title": ""
    }
   },
   "outputs": [],
   "source": [
    "spark.conf.set(\"spark.sql.session.timeZone\", \"America/Sao_Paulo\")"
   ]
  },
  {
   "cell_type": "code",
   "execution_count": 0,
   "metadata": {
    "application/vnd.databricks.v1+cell": {
     "cellMetadata": {
      "byteLimit": 2048000,
      "rowLimit": 10000
     },
     "inputWidgets": {},
     "nuid": "22b775a9-0841-4570-81e8-a17798a4db9e",
     "showTitle": false,
     "tableResultSettingsMap": {},
     "title": ""
    }
   },
   "outputs": [],
   "source": [
    "origem_path = '/Volumes/fomacao_microsoft_power_bi_profisional/bronze/landing/processados/pessoas.csv'"
   ]
  },
  {
   "cell_type": "code",
   "execution_count": 0,
   "metadata": {
    "application/vnd.databricks.v1+cell": {
     "cellMetadata": {
      "byteLimit": 2048000,
      "rowLimit": 10000
     },
     "inputWidgets": {},
     "nuid": "1b13d84e-2fb2-4fe0-9417-b2442c23b7e2",
     "showTitle": false,
     "tableResultSettingsMap": {
      "0": {
       "dataGridStateBlob": "{\"version\":1,\"tableState\":{\"columnPinning\":{\"left\":[\"#row_number#\"],\"right\":[]},\"columnSizing\":{},\"columnVisibility\":{}},\"settings\":{\"columns\":{\"Avatar\":{\"format\":{\"preset\":\"string-preset-url\"}}}},\"syncTimestamp\":1757690406316}",
       "filterBlob": null,
       "queryPlanFiltersBlob": null,
       "tableResultIndex": 0
      }
     },
     "title": ""
    }
   },
   "outputs": [],
   "source": [
    "df_raw = (spark.read\n",
    "          .option('header', 'true')\n",
    "          .option('enconding', 'UTF-8')\n",
    "          .option('sep', ',')\n",
    "          .option('inferSchema', 'true')\n",
    "          .option('multiline', 'true')\n",
    "          .option('mode', 'PERMISSIVE')\n",
    "          .csv(origem_path)\n",
    "          .withColumn('_ingest_ts_utc', F.current_timestamp())\n",
    "          .withColumn(\"_ingest_date\", F.to_date(F.col(\"_ingest_ts_utc\")))\n",
    "          .withColumn(\"_source_path\", F.col(\"_metadata.file_path\"))\n",
    "          .withColumn(\"_source_file\", F.regexp_extract(F.col(\"_source_path\"), r\"([^/]+)$\", 1)))"
   ]
  },
  {
   "cell_type": "code",
   "execution_count": 0,
   "metadata": {
    "application/vnd.databricks.v1+cell": {
     "cellMetadata": {
      "byteLimit": 2048000,
      "rowLimit": 10000
     },
     "inputWidgets": {},
     "nuid": "1f7e6366-5332-45fd-b17b-5590a10f24e9",
     "showTitle": false,
     "tableResultSettingsMap": {},
     "title": ""
    }
   },
   "outputs": [],
   "source": [
    "tbl = 'pessoas'\n",
    "destino_path = f'fomacao_microsoft_power_bi_profisional.bronze.{tbl}'\n",
    "\n",
    "df_bronze = (df_raw.write\n",
    "             .format('delta')\n",
    "             .mode('overwrite')\n",
    "             .option('overwriteSchema', 'true')\n",
    "             .partitionBy('_ingest_date')\n",
    "             .saveAsTable(destino_path))\n",
    "\n",
    "print(f'Contagem de registros: {spark.table(destino_path).count()}')"
   ]
  }
 ],
 "metadata": {
  "application/vnd.databricks.v1+notebook": {
   "computePreferences": null,
   "dashboards": [],
   "environmentMetadata": {
    "base_environment": "",
    "environment_version": "3"
   },
   "inputWidgetPreferences": null,
   "language": "python",
   "notebookMetadata": {
    "pythonIndentUnit": 4
   },
   "notebookName": "001-Extracao",
   "widgets": {}
  },
  "language_info": {
   "name": "python"
  }
 },
 "nbformat": 4,
 "nbformat_minor": 0
}
