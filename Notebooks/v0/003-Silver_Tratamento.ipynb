{
 "cells": [
  {
   "cell_type": "code",
   "execution_count": 0,
   "metadata": {
    "application/vnd.databricks.v1+cell": {
     "cellMetadata": {
      "byteLimit": 2048000,
      "rowLimit": 10000
     },
     "inputWidgets": {},
     "nuid": "62d9a395-079f-4307-a224-e0210163caee",
     "showTitle": false,
     "tableResultSettingsMap": {},
     "title": ""
    }
   },
   "outputs": [],
   "source": [
    "from pyspark.sql import functions as F, Window as W, types as T\n",
    "from delta.tables import DeltaTable\n",
    "from pyspark.sql.functions import countDistinct"
   ]
  },
  {
   "cell_type": "code",
   "execution_count": 0,
   "metadata": {
    "application/vnd.databricks.v1+cell": {
     "cellMetadata": {
      "byteLimit": 2048000,
      "rowLimit": 10000
     },
     "inputWidgets": {},
     "nuid": "98043d5f-0f0c-4553-9cad-40d3a212df65",
     "showTitle": false,
     "tableResultSettingsMap": {},
     "title": ""
    }
   },
   "outputs": [],
   "source": [
    "spark.conf.set(\"spark.sql.session.timeZone\", \"UTC\")\n",
    "\n",
    "spark.sql(\"USE CATALOG `fomacao_microsoft_power_bi_profisional`\")\n",
    "spark.sql(\"USE `pessoas`\")\n",
    "\n",
    "bronze_tbl = \"bronze_pessoas\"\n",
    "silver_tbl = \"silver_pessoas\""
   ]
  },
  {
   "cell_type": "code",
   "execution_count": 0,
   "metadata": {
    "application/vnd.databricks.v1+cell": {
     "cellMetadata": {
      "byteLimit": 2048000,
      "rowLimit": 10000
     },
     "inputWidgets": {},
     "nuid": "a53079c2-7551-4627-b149-37c445112cac",
     "showTitle": false,
     "tableResultSettingsMap": {},
     "title": ""
    }
   },
   "outputs": [],
   "source": [
    "df = spark.table(bronze_tbl)"
   ]
  },
  {
   "cell_type": "code",
   "execution_count": 0,
   "metadata": {
    "application/vnd.databricks.v1+cell": {
     "cellMetadata": {
      "byteLimit": 2048000,
      "rowLimit": 10000
     },
     "inputWidgets": {},
     "nuid": "675357b6-0777-419a-a68d-097ae971e8b2",
     "showTitle": false,
     "tableResultSettingsMap": {},
     "title": ""
    }
   },
   "outputs": [],
   "source": [
    "str_cols = [f.name for f in df.schema.fields if isinstance(f.dataType, T.StringType)]\n",
    "\n",
    "df_clean = df\n",
    "for c in str_cols:\n",
    "    df_clean = df_clean.withColumn(c, F.trim(F.regexp_replace(F.col(c), r\"\\s+\", \" \")))"
   ]
  },
  {
   "cell_type": "code",
   "execution_count": 0,
   "metadata": {
    "application/vnd.databricks.v1+cell": {
     "cellMetadata": {
      "byteLimit": 2048000,
      "rowLimit": 10000
     },
     "inputWidgets": {},
     "nuid": "b8e0f168-82f1-4b25-bef9-c70cb6308a6e",
     "showTitle": false,
     "tableResultSettingsMap": {},
     "title": ""
    }
   },
   "outputs": [],
   "source": [
    "bronze_tech = {\"_ingest_ts_utc\", \"_ingest_date\", \"_source_path\", \"_source_file\", \"_batch_id\", \"_row_hash\"}\n",
    "canon_cols = [c for c in df_clean.columns if c not in bronze_tech]"
   ]
  },
  {
   "cell_type": "code",
   "execution_count": 0,
   "metadata": {
    "application/vnd.databricks.v1+cell": {
     "cellMetadata": {
      "byteLimit": 2048000,
      "rowLimit": 10000
     },
     "inputWidgets": {},
     "nuid": "c8eafc78-1d06-4c6e-8fbf-99cea4f94e7b",
     "showTitle": false,
     "tableResultSettingsMap": {},
     "title": ""
    }
   },
   "outputs": [],
   "source": [
    "def check_primary_key(df, candidates):\n",
    "    for c in df.columns:\n",
    "        total = df.select(f\"`{c}`\").count()\n",
    "        distintos = df.select(countDistinct(f\"`{c}`\")).collect()[0][0]\n",
    "        if distintos == total:\n",
    "            print(f\"{candidates} - Coluna `{c}` pode ser uma chave primária: {distintos}/{total}\")\n",
    "\n",
    "check_primary_key(df_clean, \"PESSOAS\")"
   ]
  },
  {
   "cell_type": "code",
   "execution_count": 0,
   "metadata": {
    "application/vnd.databricks.v1+cell": {
     "cellMetadata": {
      "byteLimit": 2048000,
      "rowLimit": 10000
     },
     "inputWidgets": {},
     "nuid": "fd8ee40e-4936-45b6-9562-65cefd206c0b",
     "showTitle": false,
     "tableResultSettingsMap": {},
     "title": ""
    }
   },
   "outputs": [],
   "source": [
    "candidates = [\"Codigo\", \"email\", \"_row_hash\"]\n",
    "cols_lower = [c.lower() for c in df_clean.columns]\n",
    "natural_key = next((k for k in [c.lower() for c in candidates] if k in cols_lower), None)"
   ]
  },
  {
   "cell_type": "code",
   "execution_count": 0,
   "metadata": {
    "application/vnd.databricks.v1+cell": {
     "cellMetadata": {
      "byteLimit": 2048000,
      "rowLimit": 10000
     },
     "inputWidgets": {},
     "nuid": "3e4f8722-b7be-437d-a9c6-8e8765c5137b",
     "showTitle": false,
     "tableResultSettingsMap": {},
     "title": ""
    }
   },
   "outputs": [],
   "source": [
    "if natural_key:\n",
    "    w = W.partitionBy(natural_key).orderBy(F.col(\"_ingest_ts_utc\").desc_nulls_last())\n",
    "    df_stage = (df_clean.withColumn(\"_rn\", F.row_number().over(w)).filter(F.col(\"_rn\") == 1).drop(\"_rn\"))\n",
    "else:\n",
    "    df_stage = df_clean"
   ]
  }
 ],
 "metadata": {
  "application/vnd.databricks.v1+notebook": {
   "computePreferences": null,
   "dashboards": [],
   "environmentMetadata": {
    "base_environment": "",
    "environment_version": "3"
   },
   "inputWidgetPreferences": null,
   "language": "python",
   "notebookMetadata": {
    "pythonIndentUnit": 4
   },
   "notebookName": "003-Silver_Tratamento",
   "widgets": {}
  },
  "language_info": {
   "name": "python"
  }
 },
 "nbformat": 4,
 "nbformat_minor": 0
}
